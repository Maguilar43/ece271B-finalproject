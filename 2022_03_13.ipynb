{
 "cells": [
  {
   "cell_type": "code",
   "execution_count": 84,
   "id": "8b893fd5-1f55-45ca-b29f-da9bdd8531d5",
   "metadata": {},
   "outputs": [],
   "source": [
    "from src.models.convex import ConvexStockNet"
   ]
  },
  {
   "cell_type": "code",
   "execution_count": 85,
   "id": "778680f6-5e11-4ccc-ae18-ff11b2dd96c0",
   "metadata": {},
   "outputs": [
    {
     "name": "stdout",
     "output_type": "stream",
     "text": [
      "cuda\n"
     ]
    }
   ],
   "source": [
    "import pickle\n",
    "import torch\n",
    "import numpy as np\n",
    "import matplotlib.pyplot as plt\n",
    "from torch.utils.data import DataLoader\n",
    "device = 'cuda' if torch.cuda.is_available() else 'cpu'\n",
    "print(device)"
   ]
  },
  {
   "cell_type": "code",
   "execution_count": 86,
   "id": "7aca8260-d868-45e3-98ed-bcbc6d7ef916",
   "metadata": {},
   "outputs": [
    {
     "name": "stdout",
     "output_type": "stream",
     "text": [
      "(3518, 83)\n"
     ]
    }
   ],
   "source": [
    "tick = 'AAPL'\n",
    "batch_size = 1\n",
    "n_regions = 5_000\n",
    "n_epochs = 100\n",
    "percent_split = 0.75\n",
    "\n",
    "#data_dict = pickle.load(open('data/reduced_jack_stocks_data.pkl', 'rb'))\n",
    "data_dict = np.load('data/data_df_c_AV_nanfix.npy', allow_pickle=True).item()\n",
    "\n",
    "data = data_dict[tick]\n",
    "\n",
    "train_size = int(percent_split * data.shape[0])\n",
    "test_size = data.shape[0] - train_size\n",
    "print(data.shape)"
   ]
  },
  {
   "cell_type": "code",
   "execution_count": 87,
   "id": "6d9ee3df-7b32-42f0-8dfc-def6143c9d8e",
   "metadata": {},
   "outputs": [
    {
     "name": "stdout",
     "output_type": "stream",
     "text": [
      "0.046257451286348096\n",
      "6.375482244839475\n"
     ]
    }
   ],
   "source": [
    "n_examples, n_features = data.shape\n",
    "data, labels = data[:, :-1], data[:, [-1]]\n",
    "data = np.append(data, np.ones([n_examples, 1]), axis=1)\n",
    "data = np.append(data, labels, axis=1)\n",
    "\n",
    "train_set = data[:train_size]\n",
    "test_set = data[train_size:]\n",
    "\n",
    "def MSE_(predictions, labels):\n",
    "    differences = [(x-y)**2 for x,y in zip(predictions,labels)]\n",
    "    return sum(differences) / len(differences)\n",
    "\n",
    "train_labels = train_set[:, -1]\n",
    "test_labels= test_set[:, -1]\n",
    "trivial=np.full(test_labels.shape, np.mean(train_labels))\n",
    "trivial_MSE=MSE_(trivial, test_labels)\n",
    "trivial_MSE = np.square(trivial - test_labels).mean()\n",
    "print(trivial_MSE)\n",
    "\n",
    "print(np.linalg.norm(test_labels))\n",
    "\n",
    "train_set = DataLoader(train_set, shuffle=True, batch_size=batch_size)\n",
    "test_set = DataLoader(test_set, shuffle=True, batch_size=batch_size)"
   ]
  },
  {
   "cell_type": "code",
   "execution_count": 92,
   "id": "17f76696-0f9e-4af8-838f-131e4c378765",
   "metadata": {},
   "outputs": [],
   "source": [
    "model = ConvexStockNet(n_features, n_regions).to(device)"
   ]
  },
  {
   "cell_type": "code",
   "execution_count": 93,
   "id": "f064fd38-06dd-4dcd-8d28-66224520f369",
   "metadata": {},
   "outputs": [
    {
     "name": "stderr",
     "output_type": "stream",
     "text": [
      "Obj Loss = 0.523: 100%|███████████████████████████████████████████████████████████████████████████████████████████████████| 100/100 [08:05<00:00,  4.85s/it]\n"
     ]
    }
   ],
   "source": [
    "results = model.train(train_set, test_set, n_epochs, lr=1e-6, beta=1e1)"
   ]
  },
  {
   "cell_type": "code",
   "execution_count": 94,
   "id": "4101ac46-a45f-4f17-8323-e48bada2502d",
   "metadata": {},
   "outputs": [],
   "source": [
    "tloss, vloss, pred = results"
   ]
  },
  {
   "cell_type": "code",
   "execution_count": 95,
   "id": "ae135c4d-534b-4999-a4c1-cc833b6eb3db",
   "metadata": {},
   "outputs": [],
   "source": [
    "import seaborn as sns\n",
    "\n",
    "sns.set_context('notebook')\n",
    "sns.set_style('ticks')"
   ]
  },
  {
   "cell_type": "code",
   "execution_count": 96,
   "id": "10b4c093-b151-471b-a3c0-3c676fce8a88",
   "metadata": {},
   "outputs": [
    {
     "data": {
      "image/png": "[encoded data removed]",
      "text/plain": [
       "<Figure size 432x288 with 1 Axes>"
      ]
     },
     "metadata": {},
     "output_type": "display_data"
    }
   ],
   "source": [
    "plt.figure()\n",
    "plt.plot(tloss, lw=2, label=f'Train Loss: {tloss[-1]:.3f}')\n",
    "plt.plot(vloss, lw=2, label=f'Test Loss: {vloss[-1]:.3f}')\n",
    "plt.axhline(trivial_MSE, linestyle='--', label=f'MSE Predictor: {trivial_MSE:.3f}')\n",
    "plt.title(f'Convex, Dataset: AV, {n_features} Features')\n",
    "plt.legend()\n",
    "plt.savefig('example.png', dpi=300)\n",
    "plt.show()"
   ]
  },
  {
   "cell_type": "code",
   "execution_count": 97,
   "id": "b49a9c3a-e7e2-40ab-a25b-25d9213686fe",
   "metadata": {},
   "outputs": [],
   "source": [
    "u = model.U.detach().cpu().numpy()"
   ]
  },
  {
   "cell_type": "code",
   "execution_count": 98,
   "id": "099def20-e212-4ff6-bd1e-581e419fed28",
   "metadata": {},
   "outputs": [],
   "source": [
    "nu = np.linalg.norm(u, axis=0)"
   ]
  },
  {
   "cell_type": "code",
   "execution_count": 100,
   "id": "e78fb42e-1de4-4e77-a431-cdcfeb6404ea",
   "metadata": {},
   "outputs": [
    {
     "name": "stdout",
     "output_type": "stream",
     "text": [
      "(5000,)\n"
     ]
    },
    {
     "ename": "AttributeError",
     "evalue": "module 'numpy' has no attribute 'nnz'",
     "output_type": "error",
     "traceback": [
      "\u001b[0;31m---------------------------------------------------------------------------\u001b[0m",
      "\u001b[0;31mAttributeError\u001b[0m                            Traceback (most recent call last)",
      "Input \u001b[0;32mIn [100]\u001b[0m, in \u001b[0;36m<cell line: 3>\u001b[0;34m()\u001b[0m\n\u001b[1;32m      1\u001b[0m \u001b[38;5;28mprint\u001b[39m(nu\u001b[38;5;241m.\u001b[39mshape)\n\u001b[1;32m      2\u001b[0m plt\u001b[38;5;241m.\u001b[39mplot(nu)\n\u001b[0;32m----> 3\u001b[0m \u001b[38;5;28mprint\u001b[39m(\u001b[43mnp\u001b[49m\u001b[38;5;241;43m.\u001b[39;49m\u001b[43mnnz\u001b[49m(nu))\n",
      "File \u001b[0;32m~/mambaforge/envs/torch/lib/python3.8/site-packages/numpy/__init__.py:315\u001b[0m, in \u001b[0;36m__getattr__\u001b[0;34m(attr)\u001b[0m\n\u001b[1;32m    312\u001b[0m     \u001b[38;5;28;01mfrom\u001b[39;00m \u001b[38;5;21;01m.\u001b[39;00m\u001b[38;5;21;01mtesting\u001b[39;00m \u001b[38;5;28;01mimport\u001b[39;00m Tester\n\u001b[1;32m    313\u001b[0m     \u001b[38;5;28;01mreturn\u001b[39;00m Tester\n\u001b[0;32m--> 315\u001b[0m \u001b[38;5;28;01mraise\u001b[39;00m \u001b[38;5;167;01mAttributeError\u001b[39;00m(\u001b[38;5;124m\"\u001b[39m\u001b[38;5;124mmodule \u001b[39m\u001b[38;5;132;01m{!r}\u001b[39;00m\u001b[38;5;124m has no attribute \u001b[39m\u001b[38;5;124m\"\u001b[39m\n\u001b[1;32m    316\u001b[0m                      \u001b[38;5;124m\"\u001b[39m\u001b[38;5;132;01m{!r}\u001b[39;00m\u001b[38;5;124m\"\u001b[39m\u001b[38;5;241m.\u001b[39mformat(\u001b[38;5;18m__name__\u001b[39m, attr))\n",
      "\u001b[0;31mAttributeError\u001b[0m: module 'numpy' has no attribute 'nnz'"
     ]
    },
    {
     "data": {
      "image/png": "[encoded data removed]",
      "text/plain": [
       "<Figure size 432x288 with 1 Axes>"
      ]
     },
     "metadata": {},
     "output_type": "display_data"
    }
   ],
   "source": [
    "print(nu.shape)\n",
    "plt.plot(nu)\n",
    "print(np.count_nonzeros(nu))"
   ]
  },
  {
   "cell_type": "code",
   "execution_count": null,
   "id": "9af2d3e6-042f-49b9-ad3e-9a0c54a4e376",
   "metadata": {},
   "outputs": [],
   "source": []
  }
 ],
 "metadata": {
  "kernelspec": {
   "display_name": "Python [conda env:torch]",
   "language": "python",
   "name": "conda-env-torch-py"
  },
  "language_info": {
   "codemirror_mode": {
    "name": "ipython",
    "version": 3
   },
   "file_extension": ".py",
   "mimetype": "text/x-python",
   "name": "python",
   "nbconvert_exporter": "python",
   "pygments_lexer": "ipython3",
   "version": "3.8.12"
  }
 },
 "nbformat": 4,
 "nbformat_minor": 5
}
